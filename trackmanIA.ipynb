{
 "cells": [
  {
   "cell_type": "code",
   "execution_count": null,
   "metadata": {},
   "outputs": [],
   "source": [
    "%pip install torch\n",
    "%pip install pygame\n",
    "%pip install numpy"
   ]
  },
  {
   "cell_type": "code",
   "execution_count": 1,
   "metadata": {},
   "outputs": [
    {
     "name": "stdout",
     "output_type": "stream",
     "text": [
      "pygame 2.6.1 (SDL 2.28.4, Python 3.12.3)\n",
      "Hello from the pygame community. https://www.pygame.org/contribute.html\n"
     ]
    }
   ],
   "source": [
    "import math\n",
    "import random\n",
    "import numpy as np\n",
    "import pygame\n",
    "import torch\n",
    "import torch.nn as nn\n",
    "import torch.optim as optim\n",
    "from collections import deque\n",
    "\n",
    "# Paramètres du jeu\n",
    "WIDTH, HEIGHT = 1920, 1080\n",
    "CAR_SIZE = (60, 60)\n",
    "BORDER_COLOR = (255, 255, 255, 255)\n",
    "REP = 10000\n",
    "MAP = \"map.png\"\n",
    "\n",
    "# Hyperparamètres du Q-Learning\n",
    "GAMMA = 0.95\n",
    "LEARNING_RATE = 0.001\n",
    "BATCH_SIZE = 64\n",
    "MEMORY_SIZE = 10000\n",
    "EPSILON = 1.0\n",
    "EPSILON_MIN = 0.01\n",
    "EPSILON_DECAY = 0.995"
   ]
  },
  {
   "cell_type": "markdown",
   "metadata": {},
   "source": [
    "Charly"
   ]
  },
  {
   "cell_type": "code",
   "execution_count": 2,
   "metadata": {},
   "outputs": [],
   "source": [
    "class QN(nn.Module):\n",
    "    def __init__(self, input_dim, output_dim):\n",
    "        super().__init__()\n",
    "        self.fc1 = nn.Linear(input_dim, 128)\n",
    "        self.fc2 = nn.Linear(128, 64)\n",
    "        self.fc3 = nn.Linear(64, output_dim)\n",
    "        self.dropout = nn.Dropout(0.27)\n",
    "        self.relu = nn.ReLU()\n",
    "\n",
    "    def forward(self, x):\n",
    "        x = self.relu(self.fc1(x))\n",
    "        x = self.dropout(self.relu(self.fc2(x)))\n",
    "        x = self.fc3(x)\n",
    "        return x\n",
    "\n",
    "class QNAgent:\n",
    "    def __init__(self, input_dim, output_dim):\n",
    "        self.model = QN(input_dim, output_dim)\n",
    "        self.target_model = QN(input_dim, output_dim)\n",
    "        self.optimizer = optim.Adam(self.model.parameters(), lr=LEARNING_RATE)\n",
    "        self.memory = deque(maxlen=MEMORY_SIZE)\n",
    "        self.epsilon = EPSILON\n",
    "        self.output_dim = output_dim\n",
    "\n",
    "    def select_action(self, state):\n",
    "        if random.random() < self.epsilon:\n",
    "            return random.randint(0, self.output_dim - 1)\n",
    "        state = torch.tensor(state, dtype=torch.float32).unsqueeze(0)\n",
    "        with torch.no_grad():\n",
    "            return torch.argmax(self.model(state)).item()\n",
    "\n",
    "    def train(self):\n",
    "        if len(self.memory) < BATCH_SIZE:\n",
    "            return\n",
    "        batch = random.sample(self.memory, BATCH_SIZE)\n",
    "        states, actions, rewards, next_states, dones = zip(*batch)\n",
    "        \n",
    "        states = torch.tensor(np.array(states), dtype=torch.float32)\n",
    "        actions = torch.tensor(actions, dtype=torch.int64)\n",
    "        rewards = torch.tensor(rewards, dtype=torch.float32)\n",
    "        next_states = torch.tensor(np.array(next_states), dtype=torch.float32)\n",
    "        dones = torch.tensor(dones, dtype=torch.float32)\n",
    "\n",
    "        q_values = self.model(states).gather(1, actions.unsqueeze(1)).squeeze(1)\n",
    "        next_q_values = self.target_model(next_states).max(1)[0].detach()\n",
    "        target_q_values = rewards + (GAMMA * next_q_values * (1 - dones))\n",
    "\n",
    "        loss = nn.MSELoss()(q_values, target_q_values)\n",
    "        self.optimizer.zero_grad()\n",
    "        loss.backward()\n",
    "        self.optimizer.step()\n",
    "\n",
    "    def store_transition(self, state, action, reward, next_state, done):\n",
    "        self.memory.append((state, action, reward, next_state, done))\n",
    "\n",
    "    def update_epsilon(self):\n",
    "        self.epsilon = max(EPSILON_MIN, self.epsilon * EPSILON_DECAY)"
   ]
  },
  {
   "cell_type": "markdown",
   "metadata": {},
   "source": [
    "Aurelien"
   ]
  },
  {
   "cell_type": "code",
   "execution_count": 3,
   "metadata": {},
   "outputs": [],
   "source": [
    "\n",
    "class Car:\n",
    "    def __init__(self):\n",
    "        self.position = [830, 920]\n",
    "        self.angle = 0\n",
    "        self.alive = True\n",
    "        self.radar = []\n",
    "        self.speed = 30\n",
    "        self.car_image = pygame.image.load(\"car.png\")\n",
    "        self.car_image = pygame.transform.scale(self.car_image, (30, 30))\n",
    "\n",
    "    def update_pos(self, input):\n",
    "        if input == 1:\n",
    "            self.angle += 10\n",
    "        elif input == 0:\n",
    "            self.angle -= 10\n",
    "        \n",
    "        self.position[0] += math.cos(math.radians(self.angle)) * self.speed #x\n",
    "        self.position[1] += math.sin(math.radians(self.angle)) * self.speed #y\n",
    "\n",
    "    def collision(self, game_map):\n",
    "        car_rect = self.car_image.get_rect(center=(self.position[0], self.position[1]))\n",
    "        for x in range(car_rect.left, car_rect.right): #parcour chaque pixel de la voiture pour check les collisions\n",
    "            for y in range(car_rect.top, car_rect.bottom):\n",
    "                if 0 <= x < WIDTH and 0 <= y < HEIGHT:\n",
    "                    if game_map.get_at((x, y)) == BORDER_COLOR:\n",
    "                        self.alive = False\n",
    "                        return True\n",
    "        return False\n",
    "\n",
    "    def check_radar(self, degree, game_map):\n",
    "        length = 0\n",
    "        x, y = int(self.position[0]), int(self.position[1])\n",
    "        while length < 3000: #distance max radar normalment large \n",
    "            x = int(self.position[0] + math.cos(math.radians(self.angle + degree)) * length)\n",
    "            y = int(self.position[1] + math.sin(math.radians(self.angle + degree)) * length)\n",
    "            if 0 <= x < WIDTH and 0 <= y < HEIGHT: #check si ca sort de la map\n",
    "                if game_map.get_at((x, y)) == BORDER_COLOR:\n",
    "                    break\n",
    "            length += 1\n",
    "        return length / 3000.0\n",
    "\n",
    "    def state(self, game_map):\n",
    "        self.radar.clear()\n",
    "        for d in range(-90, 120, 45): #5 directions 5 radar\n",
    "            self.radar.append(self.check_radar(d, game_map))\n",
    "        return np.array(self.radar)\n"
   ]
  },
  {
   "cell_type": "markdown",
   "metadata": {},
   "source": [
    "Hugo"
   ]
  },
  {
   "cell_type": "code",
   "execution_count": null,
   "metadata": {},
   "outputs": [
    {
     "name": "stdout",
     "output_type": "stream",
     "text": [
      "Épisode 0, Score: 5, Epsilon: 0.99\n",
      "Épisode 1, Score: 3, Epsilon: 0.99\n",
      "Épisode 2, Score: -7, Epsilon: 0.99\n",
      "Épisode 3, Score: -8, Epsilon: 0.98\n",
      "Épisode 4, Score: -5, Epsilon: 0.98\n",
      "Épisode 5, Score: -2, Epsilon: 0.97\n",
      "Épisode 6, Score: -6, Epsilon: 0.97\n",
      "Épisode 7, Score: 1, Epsilon: 0.96\n",
      "Épisode 8, Score: -7, Epsilon: 0.96\n",
      "Épisode 9, Score: 8, Epsilon: 0.95\n",
      "Épisode 10, Score: 5, Epsilon: 0.95\n",
      "Épisode 11, Score: -6, Epsilon: 0.94\n",
      "Épisode 12, Score: -6, Epsilon: 0.94\n"
     ]
    },
    {
     "ename": "error",
     "evalue": "display Surface quit",
     "output_type": "error",
     "traceback": [
      "\u001b[0;31m---------------------------------------------------------------------------\u001b[0m",
      "\u001b[0;31merror\u001b[0m                                     Traceback (most recent call last)",
      "Cell \u001b[0;32mIn[4], line 31\u001b[0m\n\u001b[1;32m     28\u001b[0m final_reward \u001b[38;5;241m+\u001b[39m\u001b[38;5;241m=\u001b[39m reward\n\u001b[1;32m     30\u001b[0m \u001b[38;5;66;03m# Rafraîchissement de l'écran\u001b[39;00m\n\u001b[0;32m---> 31\u001b[0m \u001b[43mécran\u001b[49m\u001b[38;5;241;43m.\u001b[39;49m\u001b[43mfill\u001b[49m\u001b[43m(\u001b[49m\u001b[43m(\u001b[49m\u001b[38;5;241;43m0\u001b[39;49m\u001b[43m,\u001b[49m\u001b[43m \u001b[49m\u001b[38;5;241;43m0\u001b[39;49m\u001b[43m,\u001b[49m\u001b[43m \u001b[49m\u001b[38;5;241;43m0\u001b[39;49m\u001b[43m)\u001b[49m\u001b[43m)\u001b[49m\n\u001b[1;32m     32\u001b[0m écran\u001b[38;5;241m.\u001b[39mblit(game_map, (\u001b[38;5;241m0\u001b[39m, \u001b[38;5;241m0\u001b[39m))\n\u001b[1;32m     33\u001b[0m écran\u001b[38;5;241m.\u001b[39mblit(car\u001b[38;5;241m.\u001b[39mcar_image, car\u001b[38;5;241m.\u001b[39mcar_image\u001b[38;5;241m.\u001b[39mget_rect(center\u001b[38;5;241m=\u001b[39m(\u001b[38;5;28mint\u001b[39m(car\u001b[38;5;241m.\u001b[39mposition[\u001b[38;5;241m0\u001b[39m]), \u001b[38;5;28mint\u001b[39m(car\u001b[38;5;241m.\u001b[39mposition[\u001b[38;5;241m1\u001b[39m]))))\n",
      "\u001b[0;31merror\u001b[0m: display Surface quit"
     ]
    },
    {
     "ename": "",
     "evalue": "",
     "output_type": "error",
     "traceback": [
      "\u001b[1;31mThe Kernel crashed while executing code in the current cell or a previous cell. \n",
      "\u001b[1;31mPlease review the code in the cell(s) to identify a possible cause of the failure. \n",
      "\u001b[1;31mClick <a href='https://aka.ms/vscodeJupyterKernelCrash'>here</a> for more info. \n",
      "\u001b[1;31mView Jupyter <a href='command:jupyter.viewOutput'>log</a> for further details."
     ]
    }
   ],
   "source": [
    "\n",
    "pygame.init()\n",
    "écran = pygame.display.set_mode((WIDTH, HEIGHT))\n",
    "clock = pygame.time.Clock()\n",
    "agent = QNAgent(input_dim=5, output_dim=3)\n",
    "\n",
    "game_map = pygame.image.load(MAP)\n",
    "\n",
    "for episode in range(REP):\n",
    "    car = Car()\n",
    "    state = car.state(game_map)\n",
    "    final_reward = 0\n",
    "\n",
    "    while car.alive:\n",
    "        for event in pygame.event.get():\n",
    "            if event.type == pygame.QUIT:\n",
    "                pygame.quit()\n",
    "                exit()\n",
    "\n",
    "        action = agent.select_action(state)\n",
    "        car.update_pos(action)\n",
    "        done = car.collision(game_map)\n",
    "        next_state = car.state(game_map)\n",
    "\n",
    "        reward = -10 if done else 1\n",
    "        agent.store_transition(state, action, reward, next_state, done)\n",
    "        agent.train()\n",
    "        state = next_state\n",
    "        final_reward += reward\n",
    "\n",
    "        # Rafraîchissement de l'écran\n",
    "        écran.fill((0, 0, 0))\n",
    "        écran.blit(game_map, (0, 0))\n",
    "        écran.blit(car.car_image, car.car_image.get_rect(center=(int(car.position[0]), int(car.position[1]))))\n",
    "        \n",
    "        # Ajouter un texte pour vérifier que l'écran se rafraîchit\n",
    "        font = pygame.font.Font(None, 36)\n",
    "        text = font.render(f\"Score: {final_reward}\", True, (255, 0, 0))\n",
    "        écran.blit(text, (10, 10))\n",
    "\n",
    "        pygame.display.flip()  # Mettre à jour l'affichage\n",
    "        clock.tick(60)\n",
    "\n",
    "    agent.update_epsilon()\n",
    "    print(f\"Épisode {episode}, Score: {final_reward}, Epsilon: {agent.epsilon:.2f}\")\n",
    "\n",
    "pygame.quit()\n"
   ]
  }
 ],
 "metadata": {
  "kernelspec": {
   "display_name": "trckmania",
   "language": "python",
   "name": "python3"
  },
  "language_info": {
   "codemirror_mode": {
    "name": "ipython",
    "version": 3
   },
   "file_extension": ".py",
   "mimetype": "text/x-python",
   "name": "python",
   "nbconvert_exporter": "python",
   "pygments_lexer": "ipython3",
   "version": "3.12.3"
  }
 },
 "nbformat": 4,
 "nbformat_minor": 2
}
